{
  "nbformat": 4,
  "nbformat_minor": 0,
  "metadata": {
    "colab": {
      "name": "Main.ipynb",
      "version": "0.3.2",
      "provenance": [],
      "include_colab_link": true
    },
    "kernelspec": {
      "name": "python3",
      "display_name": "Python 3"
    }
  },
  "cells": [
    {
      "cell_type": "markdown",
      "metadata": {
        "id": "view-in-github",
        "colab_type": "text"
      },
      "source": [
        "<a href=\"https://colab.research.google.com/github/davidparks21/CMPE202/blob/master/Main.ipynb\" target=\"_parent\"><img src=\"https://colab.research.google.com/assets/colab-badge.svg\" alt=\"Open In Colab\"/></a>"
      ]
    },
    {
      "metadata": {
        "id": "XMJZTd0ZEO1P",
        "colab_type": "text"
      },
      "cell_type": "markdown",
      "source": [
        "# Introduction to colab\n",
        "\n",
        "Google Colab hosts jupyter notebooks using a free container (virtual machine) hosted in the google cloud. \n",
        "\n",
        "We have limited access to GPUs/TPUs and compute power. For compute intensive activities such as training a model we will host a local runtime (e.g. a jupyter notebook server) on our own servers, most likely on the campus [Nautilus Kubernetes cluster](http://nautilus.optiputer.net) This will be managed by David, and instructions for connecting to the local runtime will be here in the future.\n",
        "\n",
        "Jupyter notebooks mix [simple markdown](https://jupyter-notebook.readthedocs.io/en/stable/examples/Notebook/Working%20With%20Markdown%20Cells.html#Markdown-basics), [more complex HTML](https://jupyter-notebook.readthedocs.io/en/stable/examples/Notebook/Working%20With%20Markdown%20Cells.html#General-HTML), [latex](https://jupyter-notebook.readthedocs.io/en/stable/examples/Notebook/Working%20With%20Markdown%20Cells.html#LaTeX-equations), and [executable code](https://jupyter-notebook.readthedocs.io/en/stable/ui_components.html). Allowing for a mix of documentation, visualizations, project tracking, and code-based experimentation.\n",
        "\n",
        "# Accessing notebooks on the github repo\n",
        "\n",
        "The files and notebooks associated with colab will be stored in a private [github repo](https://github.com/davidparks21/research). There is a link to launch colab from the github repo.\n",
        "\n",
        "# Editing and saving changes\n",
        "\n",
        "When opening a notebook in colab a copy of the notebook will be created and any changes must be explicitly saved to github via *File -> Save*, or *File -> Save a copy in GitHub* which will issue a commit back to the github repo.\n",
        "\n",
        "#  Jupyter notebook basics\n",
        "\n",
        "* You can add code cells or text cells and reorder them in the toolbar in the top left.\n",
        "* To run code connect to a \"hosted runtime\" in the top right, this will happen automatically if you try to run a code block. \n",
        "* Latex: Use \\$ to disply latex in a text cell: $e^x = \\sum_{i=0}^{\\infty}\\frac{1}{i!}x^i$, escape \\$ characters with a backslash \\\\\\$\n",
        "* There is a table of contents in an optional left menu bar.\n"
      ]
    },
    {
      "metadata": {
        "id": "6ngIo3F8FIse",
        "colab_type": "text"
      },
      "cell_type": "markdown",
      "source": [
        "# Summary of research tasks and status\n",
        "\n",
        "- <input type=\"checkbox\" checked> Provide a draft of what has been done with FitNets to date. Document provided [here](https://github.com/davidparks21/research/blob/master/fitnets/FitNets_progress_documenation.pdf).\n",
        "- <input type=\"checkbox\" > Visualize 10 samples from the hourglass model with the output of HG1, HG2, HG3, HG4 (final output)\n",
        "- <input type=\"checkbox\" > Produce 4 experiments using the existing FitNets / FaceAlignmentNetwork architecture: (1) Train 1-HG architecture by itself; (2) Train 1-HG architecture from the 4-HG pretrained model; (3) Train 1-HG w/o teacher, then use self as the teacher; (4) Train a 1-HG architecture from the previous student model (also 1-HG, which is now state of the art)\n",
        "- <input type=\"checkbox\" > Update the qunatization survey latex to provide a 2-page paper for review.\n",
        "- <input type=\"checkbox\" > Randomize rounding of weights\n",
        "- <input type=\"checkbox\" > Add gaussian noise to weights every update\n",
        "- <input type=\"checkbox\" > Post the paper \"The Singular Values of Convolutional Layers\" presented by Sedghi to github\n",
        "- <input type=\"checkbox\" > Ask Bulat about the results of the 1-hourglass (need to discuss this, a detail was missed in the original conversation)\n",
        "- <input type=\"checkbox\" > (Later) Cancellations are bad, identify them\n",
        "- <input type=\"checkbox\" > (Later) Non-uniform spectral approxmation for matrices\n",
        "\n",
        "\n"
      ]
    },
    {
      "metadata": {
        "id": "JrGwDVSUEIQx",
        "colab_type": "code",
        "outputId": "fd02cabd-a26b-4273-9d22-9a2de16b1761",
        "colab": {
          "base_uri": "https://localhost:8080/",
          "height": 34
        }
      },
      "cell_type": "code",
      "source": [
        "# This is an example of a code block that can be exectued using a colab container\n",
        "# Runing this cell will \n",
        "\n",
        "print('Hello World')"
      ],
      "execution_count": 0,
      "outputs": [
        {
          "output_type": "stream",
          "text": [
            "Hello World\n"
          ],
          "name": "stdout"
        }
      ]
    },
    {
      "metadata": {
        "id": "wPBWmxiPbkdn",
        "colab_type": "text"
      },
      "cell_type": "markdown",
      "source": [
        "# Face Alignment Network (FAN) visualizataions\n",
        "The following visualizations are the outputs of the Face Alignment Network at various points. The first 10 samples in the held out test dataset are shown.\n",
        "\n",
        "Each image is described below from left to right:\n",
        "\n",
        " - Image 1: The original image with an overlay of the 68 point facial landmarks from: Ground Truth (Blue); Student Network (Green); Original Teacher Network (Red)\n",
        " - Image 2: A visualization of the raw output of the student trained network. The raw output is a tensor of shape [64x64x68], each of the 68 landmarks is respresented as a 64x64 image with roughly a 7x7 gaussian representing the center point. Each of those 64x64 images is depicted, with the final square being an summation over all 68 images.\n",
        " - Image 3: The same visualization of the final output from the originally trained teacher model which is a 4-hourglass model (each \"hourglass\" is effectively a full neural network, the original paper uses 4 of these strung end to end to achieve best performance).\n",
        " - Image 4: The same visualization with the output of the 2nd to last hourglass.\n",
        " - Image 5: The same visualization with the output of the 3rd to last hourglass.\n",
        " - Image 6: The same visualization with the output of the 4th to last hourglass (that's the first hourglass processing the raw input).\n",
        " \n",
        " ![Test set image index 0](https://github.com/davidparks21/research/blob/master/img/imageix0.png?raw=true)\n",
        " ![Test set image index 1](https://github.com/davidparks21/research/blob/master/img/imageix1.png?raw=true)\n",
        " ![Test set image index 2](https://github.com/davidparks21/research/blob/master/img/imageix2.png?raw=true)\n",
        " ![Test set image index 3](https://github.com/davidparks21/research/blob/master/img/imageix3.png?raw=true)\n",
        " ![Test set image index 4](https://github.com/davidparks21/research/blob/master/img/imageix4.png?raw=true)\n",
        " ![Test set image index 5](https://github.com/davidparks21/research/blob/master/img/imageix5.png?raw=true)\n",
        " ![Test set image index 6](https://github.com/davidparks21/research/blob/master/img/imageix6.png?raw=true)\n",
        " ![Test set image index 7](https://github.com/davidparks21/research/blob/master/img/imageix7.png?raw=true)\n",
        " ![Test set image index 8](https://github.com/davidparks21/research/blob/master/img/imageix8.png?raw=true)\n",
        " ![Test set image index 9](https://github.com/davidparks21/research/blob/master/img/imageix9.png?raw=true)\n",
        " \n",
        " "
      ]
    }
  ]
}